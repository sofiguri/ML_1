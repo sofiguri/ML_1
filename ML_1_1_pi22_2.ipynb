{
  "nbformat": 4,
  "nbformat_minor": 0,
  "metadata": {
    "colab": {
      "provenance": []
    },
    "kernelspec": {
      "name": "python3",
      "display_name": "Python 3"
    },
    "language_info": {
      "name": "python"
    }
  },
  "cells": [
    {
      "cell_type": "code",
      "execution_count": null,
      "metadata": {
        "id": "v0Dd-zkv6ILQ"
      },
      "outputs": [],
      "source": [
        "import numpy as np\n",
        "import pandas as pd\n",
        "import matplotlib.pyplot as plt"
      ]
    },
    {
      "cell_type": "code",
      "source": [
        "x = pd.read_csv('https://raw.githubusercontent.com/koroteevmv/ML_course/main/ML1.1_sgd/data/x.csv', index_col=0)['0']\n",
        "y = pd.read_csv('https://raw.githubusercontent.com/koroteevmv/ML_course/main/ML1.1_sgd/data/y.csv', index_col=0)['0']"
      ],
      "metadata": {
        "id": "o36svjN36Sy-"
      },
      "execution_count": null,
      "outputs": []
    },
    {
      "cell_type": "code",
      "source": [
        "x.head()"
      ],
      "metadata": {
        "colab": {
          "base_uri": "https://localhost:8080/"
        },
        "id": "RgYvlbiP6WhC",
        "outputId": "e24643c3-0fc1-42b3-c81f-23f292a652ca"
      },
      "execution_count": null,
      "outputs": [
        {
          "output_type": "execute_result",
          "data": {
            "text/plain": [
              "0    1.462108\n",
              "1    1.133769\n",
              "2   -2.301539\n",
              "3    1.744812\n",
              "4    0.042214\n",
              "Name: 0, dtype: float64"
            ]
          },
          "metadata": {},
          "execution_count": 3
        }
      ]
    },
    {
      "cell_type": "markdown",
      "source": [
        "Проверьте работу модели с разными начальными значениями параметров. Убедитесь, что модель всегда сходится к оптимуму."
      ],
      "metadata": {
        "id": "sgnG-chl-lDB"
      }
    },
    {
      "cell_type": "code",
      "source": [
        "class Model(object):\n",
        "    \"\"\"Модель парной линейной регрессии\"\"\"\n",
        "    def __init__(self):\n",
        "        self.b0 = 0\n",
        "        self.b1 = 0\n",
        "    def predict(self, X):\n",
        "        return self.b0 + self.b1 * X\n",
        "    def error(self, X, Y):\n",
        "        return sum(((self.predict(X) - Y)**2) / (2 * len(X)))\n",
        "    def fit(self, X, Y, alpha=0.001, accuracy=0.01, max_steps=5000):\n",
        "        steps, errors = [], []\n",
        "        step = 0\n",
        "        for _ in range(10000):\n",
        "            dJ0 = sum(self.predict(X) - Y) /len(X)\n",
        "            dJ1 = sum((self.predict(X) - Y) * X) /len(X)\n",
        "            self.b0 -= alpha * dJ0\n",
        "            self.b1 -= alpha * dJ1\n",
        "            new_err = hyp.error(X, Y)\n",
        "            step += 1\n",
        "            steps.append(step)\n",
        "            errors.append(new_err)\n",
        "        return steps, errors\n",
        "\n",
        "hyp = Model()\n",
        "steps, errors = hyp.fit(x, y)\n",
        "J = hyp.error(x, y)\n",
        "print(\"error after gradient descent:\", J)\n",
        "\n",
        "X0 = np.linspace(-3, 2, 100)\n",
        "Y0 = hyp.predict(X0)\n",
        "plt.figure()\n",
        "plt.scatter(x, y)\n",
        "plt.plot(X0, Y0, 'r')\n",
        "plt.show()"
      ],
      "metadata": {
        "colab": {
          "base_uri": "https://localhost:8080/",
          "height": 447
        },
        "id": "4sNahSIN7Gwt",
        "outputId": "1a583ebb-9057-45e8-ba54-c128afc9e437"
      },
      "execution_count": null,
      "outputs": [
        {
          "output_type": "stream",
          "name": "stdout",
          "text": [
            "error after gradient descent: 2.776975306057215e-06\n"
          ]
        },
        {
          "output_type": "display_data",
          "data": {
            "text/plain": [
              "<Figure size 640x480 with 1 Axes>"
            ],
            "image/png": "[encoded data removed]"
          },
          "metadata": {}
        }
      ]
    },
    {
      "cell_type": "markdown",
      "source": [],
      "metadata": {
        "id": "1NZgZ1UU-s2I"
      }
    },
    {
      "cell_type": "markdown",
      "source": [
        "#№1"
      ],
      "metadata": {
        "id": "rsgyqDL86dao"
      }
    },
    {
      "cell_type": "markdown",
      "source": [
        "Проверьте работу модели с разными начальными значениями параметров. Убедитесь, что модель всегда сходится к оптимуму."
      ],
      "metadata": {
        "id": "PUnpkMXh-zCw"
      }
    },
    {
      "cell_type": "code",
      "source": [
        "class Model(object):\n",
        "    \"\"\"Модель парной линейной регрессии\"\"\"\n",
        "    def __init__(self):\n",
        "        self.b0 = 0\n",
        "        self.b1 = 0\n",
        "    def predict(self, X):\n",
        "        return self.b0 + self.b1 * X\n",
        "    def error(self, X, Y):\n",
        "        return sum(((self.predict(X) - Y)**2) / (2 * len(X)))\n",
        "    def fit(self, X, Y, alpha=0.001, accuracy=0.01, max_steps=5000):\n",
        "        steps, errors = [], []\n",
        "        step = 0\n",
        "        for _ in range(10000):\n",
        "            dJ0 = sum(self.predict(X) - Y) /len(X)\n",
        "            dJ1 = sum((self.predict(X) - Y) * X) /len(X)\n",
        "            self.b0 -= alpha * dJ0\n",
        "            self.b1 -= alpha * dJ1\n",
        "            new_err = hyp.error(X, Y)\n",
        "            step += 1\n",
        "            steps.append(step)\n",
        "            errors.append(new_err)\n",
        "        return steps, errors\n",
        "\n",
        "hyp = Model()\n",
        "hyp.b0 = 1.0  # Изменение начального значения b0\n",
        "hyp.b1 = 0.5  # Изменение начального значения b1\n",
        "steps, errors = hyp.fit(x, y)\n",
        "J = hyp.error(x, y)\n",
        "print(\"error after gradient descent:\", J)\n",
        "\n",
        "X0 = np.linspace(-3, 2, 100)\n",
        "Y0 = hyp.predict(X0)\n",
        "plt.figure()\n",
        "plt.scatter(x, y)\n",
        "plt.plot(X0, Y0, 'r')\n",
        "plt.show()"
      ],
      "metadata": {
        "colab": {
          "base_uri": "https://localhost:8080/",
          "height": 447
        },
        "id": "6H7s5DZh6ZQq",
        "outputId": "71ea5816-0e74-43b0-d58b-2aa0440579ab"
      },
      "execution_count": null,
      "outputs": [
        {
          "output_type": "stream",
          "name": "stdout",
          "text": [
            "error after gradient descent: 2.5682471698089767e-06\n"
          ]
        },
        {
          "output_type": "display_data",
          "data": {
            "text/plain": [
              "<Figure size 640x480 with 1 Axes>"
            ],
            "image/png": "[encoded data removed]"
          },
          "metadata": {}
        }
      ]
    },
    {
      "cell_type": "markdown",
      "source": [
        "#№2"
      ],
      "metadata": {
        "id": "D5WV_ETA7Unm"
      }
    },
    {
      "cell_type": "markdown",
      "source": [
        "Проверьте работу модели с другими значениями скорости обучения. Найдите значение, при котором градиентный спуск расходится."
      ],
      "metadata": {
        "id": "Dqkx7cFj-vMo"
      }
    },
    {
      "cell_type": "code",
      "source": [
        "class Model(object):\n",
        "    \"\"\"Модель парной линейной регрессии\"\"\"\n",
        "    def __init__(self):\n",
        "        self.b0 = 0\n",
        "        self.b1 = 0\n",
        "    def predict(self, X):\n",
        "        return self.b0 + self.b1 * X\n",
        "    def error(self, X, Y):\n",
        "        return sum(((self.predict(X) - Y)**2) / (2 * len(X)))\n",
        "    def fit(self, X, Y, alpha=0.001, accuracy=0.01, max_steps=5000):\n",
        "        steps, errors = [], []\n",
        "        step = 0\n",
        "        for _ in range(10000):\n",
        "            dJ0 = sum(self.predict(X) - Y) /len(X)\n",
        "            dJ1 = sum((self.predict(X) - Y) * X) /len(X)\n",
        "            self.b0 -= alpha * dJ0\n",
        "            self.b1 -= alpha * dJ1\n",
        "            new_err = hyp.error(X, Y)\n",
        "            step += 1\n",
        "            steps.append(step)\n",
        "            errors.append(new_err)\n",
        "        return steps, errors\n",
        "\n",
        "hyp = Model()\n",
        "steps, errors = hyp.fit(x, y, alpha=0.01) #Изменение значения alpha\n",
        "J = hyp.error(x, y)\n",
        "print(\"error after gradient descent:\", J)\n",
        "\n",
        "X0 = np.linspace(-3, 2, 100)\n",
        "Y0 = hyp.predict(X0)\n",
        "plt.figure()\n",
        "plt.scatter(x, y)\n",
        "plt.plot(X0, Y0, 'r')\n",
        "plt.show()"
      ],
      "metadata": {
        "colab": {
          "base_uri": "https://localhost:8080/",
          "height": 447
        },
        "id": "Xzhb6-eo7VSk",
        "outputId": "23cae253-ce4c-4a98-a308-1c3e98bc8c58"
      },
      "execution_count": null,
      "outputs": [
        {
          "output_type": "stream",
          "name": "stdout",
          "text": [
            "error after gradient descent: 2.006036254818294e-25\n"
          ]
        },
        {
          "output_type": "display_data",
          "data": {
            "text/plain": [
              "<Figure size 640x480 with 1 Axes>"
            ],
            "image/png": "[encoded data removed]"
          },
          "metadata": {}
        }
      ]
    },
    {
      "cell_type": "markdown",
      "source": [
        "#№3\n"
      ],
      "metadata": {
        "id": "DpYpM2_z7fKi"
      }
    },
    {
      "cell_type": "markdown",
      "source": [
        "Модифицируйте код модели таким образом, чтобы он корректно работал как с Series, так и с DataFrame. При этом, конечно, датафрейм не должен содержать \"лишних\" столбцов."
      ],
      "metadata": {
        "id": "ZrKnI4rD-11X"
      }
    },
    {
      "cell_type": "code",
      "source": [
        "class Model(object):\n",
        "    \"\"\"Модель парной линейной регрессии\"\"\"\n",
        "    def __init__(self, b0=0, b1=0):\n",
        "        self.b0 = b0\n",
        "        self.b1 = b1\n",
        "    def predict(self, X = np.zeros(10), df = pd.DataFrame()):\n",
        "        X = X\n",
        "        if len(df.columns) == 2:\n",
        "          X = df.iloc[:,0]\n",
        "        return self.b0 + self.b1 * X\n",
        "    def error(self, X = np.zeros(10), Y = np.zeros(10), df = pd.DataFrame()):\n",
        "        X = X\n",
        "        Y = Y\n",
        "        if len(df.columns) == 2:\n",
        "          X = df.iloc[:,0]\n",
        "          Y = df.iloc[:,1]\n",
        "        return sum(((self.predict(X) - Y)**2) / (2 * len(X)))\n",
        "    def fit(self, X = np.zeros(10), Y = np.zeros(10), df = pd.DataFrame(), alpha=0.001, accuracy=0.01, max_steps=5000):\n",
        "        X = X\n",
        "        Y = Y\n",
        "        if len(df.columns) == 2:\n",
        "          X = df.iloc[:,0]\n",
        "          Y = df.iloc[:,1]\n",
        "        steps, errors = [], []\n",
        "        step = 0\n",
        "        for _ in range(10000):\n",
        "            dJ0 = sum(self.predict(X) - Y) /len(X)\n",
        "            dJ1 = sum((self.predict(X) - Y) * X) /len(X)\n",
        "            self.b0 -= alpha * dJ0\n",
        "            self.b1 -= alpha * dJ1\n",
        "            new_err = self.error(X, Y)\n",
        "            step += 1\n",
        "            steps.append(step)\n",
        "            errors.append(new_err)\n",
        "        return steps, errors"
      ],
      "metadata": {
        "id": "s4yT_yVy7eaL"
      },
      "execution_count": null,
      "outputs": []
    },
    {
      "cell_type": "code",
      "source": [
        "a = 1\n",
        "b = 0.1\n",
        "df = pd.DataFrame({'x': np.linspace(-2,4,20), 'y': a * np.linspace(-2,4,20) + b + np.random.normal(0,0.1,20)})\n",
        "hyp = Model()\n",
        "steps1, errors1 = hyp.fit(df=df)\n",
        "J1 = hyp.error(df = df)\n",
        "print(\"error after gradient descent:\", J1)\n",
        "print(\"*\"*100)\n",
        "hyp2 = Model()\n",
        "steps2, errors2 = hyp2.fit(df.iloc[:,0], df.iloc[:,1])\n",
        "J2 = hyp.error(df.iloc[:,0], df.iloc[:,1])\n",
        "print(\"error after gradient descent:\", J2)"
      ],
      "metadata": {
        "colab": {
          "base_uri": "https://localhost:8080/"
        },
        "id": "ZbSLPqDO8xSj",
        "outputId": "791d5bd5-2693-4ff4-eb31-dba5529b5a38"
      },
      "execution_count": null,
      "outputs": [
        {
          "output_type": "stream",
          "name": "stdout",
          "text": [
            "error after gradient descent: 0.003880384460283341\n",
            "****************************************************************************************************\n",
            "error after gradient descent: 0.003880384460283341\n"
          ]
        }
      ]
    },
    {
      "cell_type": "markdown",
      "source": [
        "#№4"
      ],
      "metadata": {
        "id": "BijiiiWI9Zwk"
      }
    },
    {
      "cell_type": "markdown",
      "source": [
        "Модифицируйте алгоритм градиентного спука таким образом, чтобы он останавливаля, если ошибка перестает снижаться. Для этого сравнивайте, на сколько понизилась ошибка на каждом шаге и если это снижение меньше некоторой заранее заданной очень маленькой величины - выходите из цикла. Эту величину можно взять одну миллионную, например."
      ],
      "metadata": {
        "id": "Xkzd5S0P-4Wz"
      }
    },
    {
      "cell_type": "code",
      "source": [
        "class Model(object):\n",
        "    \"\"\"Модель парной линейной регрессии\"\"\"\n",
        "    def __init__(self, b0=0, b1=0):\n",
        "        self.b0 = b0\n",
        "        self.b1 = b1\n",
        "    def predict(self, X = np.zeros(10), df = pd.DataFrame()):\n",
        "        X = X\n",
        "        if len(df.columns) == 2:\n",
        "          X = df.iloc[:,0]\n",
        "        return self.b0 + self.b1 * X\n",
        "    def error(self, X = np.zeros(10), Y = np.zeros(10), df = pd.DataFrame()):\n",
        "        X = X\n",
        "        Y = Y\n",
        "        if len(df.columns) == 2:\n",
        "          X = df.iloc[:,0]\n",
        "          Y = df.iloc[:,1]\n",
        "        return sum(((self.predict(X) - Y)**2) / (2 * len(X)))\n",
        "    def fit(self, X = np.zeros(10), Y = np.zeros(10), df = pd.DataFrame(), alpha=0.001, accuracy=0.000001, max_steps=5000):\n",
        "        X = X\n",
        "        Y = Y\n",
        "        if len(df.columns) == 2:\n",
        "          X = df.iloc[:,0]\n",
        "          Y = df.iloc[:,1]\n",
        "        steps, errors = [], []\n",
        "        step = 0\n",
        "        for _ in range(max_steps):\n",
        "            dJ0 = sum(self.predict(X) - Y) /len(X)\n",
        "            dJ1 = sum((self.predict(X) - Y) * X) /len(X)\n",
        "            self.b0 -= alpha * dJ0\n",
        "            self.b1 -= alpha * dJ1\n",
        "            new_err = self.error(X, Y)\n",
        "            step += 1\n",
        "            if len(errors) > 1:\n",
        "              delta = new_err - errors[-1]\n",
        "              if (delta < 0 and abs(delta)<accuracy) or delta > 0:\n",
        "                break\n",
        "            steps.append(step)\n",
        "            errors.append(new_err)\n",
        "        return steps, errors"
      ],
      "metadata": {
        "id": "kkMlLroN9bz1"
      },
      "execution_count": null,
      "outputs": []
    },
    {
      "cell_type": "code",
      "source": [
        "a = 1\n",
        "b = 0.1\n",
        "df = pd.DataFrame({'x': np.linspace(-2,4,20), 'y': a * np.linspace(-2,4,20) + b + np.random.normal(0,0.1,20)})\n",
        "hyp = Model()\n",
        "steps1, errors1 = hyp.fit(df=df, accuracy = 0.000000001)\n",
        "J1 = hyp.error(df = df)\n",
        "print(\"error after gradient descent:\", J1)\n",
        "print(\"Обучение остановлено на итерации: \", len(steps1))\n",
        "print(\"*\"*100)\n",
        "hyp2 = Model()\n",
        "steps2, errors2 = hyp2.fit(df.iloc[:,0], df.iloc[:,1], accuracy = 0.000001)\n",
        "J2 = hyp.error(df.iloc[:,0], df.iloc[:,1])\n",
        "print(\"error after gradient descent:\", J2)\n",
        "print(\"Обучение остановлено на итерации: \", len(steps2))"
      ],
      "metadata": {
        "colab": {
          "base_uri": "https://localhost:8080/"
        },
        "id": "Z__rADP-9e-A",
        "outputId": "32638dab-edf8-452a-93d9-b1292db527f1"
      },
      "execution_count": null,
      "outputs": [
        {
          "output_type": "stream",
          "name": "stdout",
          "text": [
            "error after gradient descent: 0.003989578279117549\n",
            "Обучение остановлено на итерации:  5000\n",
            "****************************************************************************************************\n",
            "error after gradient descent: 0.003989578279117549\n",
            "Обучение остановлено на итерации:  1690\n"
          ]
        }
      ]
    },
    {
      "cell_type": "markdown",
      "source": [
        "#№6"
      ],
      "metadata": {
        "id": "sFdJueU486Qf"
      }
    },
    {
      "cell_type": "markdown",
      "source": [
        "Реализуйте механизм адаптивной скорости обучения. Чтобы не задавать вручную параметр alpha можно отслеживать, увеличивается ли ошибка после первого шага градиентного спуска. В начале задаем скорость обучения близкой к 1. Если ошибка после одного шага увеличивается - скорость обучения надо уменьшить (например, в 2 раза). Если не увеличивается - скорость обучения можно не трогать. Еще подумайте, как после уменьшения скорости перезапускать градиентный спуск заново"
      ],
      "metadata": {
        "id": "4s--I8gq-8Uo"
      }
    },
    {
      "cell_type": "code",
      "source": [
        "class Model(object):\n",
        "    \"\"\"Модель парной линейной регрессии\"\"\"\n",
        "    def __init__(self):\n",
        "        self.b0 = 0\n",
        "        self.b1 = 0\n",
        "\n",
        "    def predict(self, X):\n",
        "        return self.b0 + self.b1 * X\n",
        "\n",
        "    def error(self, X, Y):\n",
        "        return sum(((self.predict(X) - Y)**2) / (2 * len(X)))\n",
        "\n",
        "    def fit(self, X, Y, initial_alpha=1.0, decrease_factor=2.0, max_steps=5000):\n",
        "        steps, errors = [], []\n",
        "        alpha = initial_alpha\n",
        "        step = 0\n",
        "        prev_error = self.error(X, Y)\n",
        "\n",
        "        while step < max_steps:\n",
        "            dJ0 = sum(self.predict(X) - Y) / len(X)\n",
        "            dJ1 = sum((self.predict(X) - Y) * X) / len(X)\n",
        "            self.b0 -= alpha * dJ0\n",
        "            self.b1 -= alpha * dJ1\n",
        "\n",
        "            new_err = self.error(X, Y)\n",
        "            step += 1\n",
        "            steps.append(step)\n",
        "            errors.append(new_err)\n",
        "\n",
        "            if new_err > prev_error:\n",
        "                alpha /= decrease_factor  # Уменьшаем скорость обучения\n",
        "                # После уменьшения скорости обучения, можно перезапустить градиентный спуск заново\n",
        "                self.b0 = 0\n",
        "                self.b1 = 0\n",
        "                step = 0\n",
        "            else:\n",
        "                prev_error = new_err\n",
        "\n",
        "        return steps, errors\n",
        "\n",
        "\n",
        "hyp = Model()\n",
        "steps, errors = hyp.fit(x, y)\n",
        "J = hyp.error(x, y)\n",
        "print(\"error after gradient descent:\", J)\n",
        "\n",
        "X0 = np.linspace(-3, 2, 100)\n",
        "Y0 = hyp.predict(X0)\n",
        "plt.figure()\n",
        "plt.scatter(x, y)\n",
        "plt.plot(X0, Y0, 'r')\n",
        "plt.show()"
      ],
      "metadata": {
        "colab": {
          "base_uri": "https://localhost:8080/",
          "height": 390
        },
        "id": "dDN6vUvn88WB",
        "outputId": "d7065b69-ef05-4bd9-9a5e-7a4e1d6b5d75"
      },
      "execution_count": null,
      "outputs": [
        {
          "output_type": "error",
          "ename": "KeyboardInterrupt",
          "evalue": "ignored",
          "traceback": [
            "\u001b[0;31m---------------------------------------------------------------------------\u001b[0m",
            "\u001b[0;31mKeyboardInterrupt\u001b[0m                         Traceback (most recent call last)",
            "\u001b[0;32m<ipython-input-7-bfaba5f98bdc>\u001b[0m in \u001b[0;36m<cell line: 43>\u001b[0;34m()\u001b[0m\n\u001b[1;32m     41\u001b[0m \u001b[0;34m\u001b[0m\u001b[0m\n\u001b[1;32m     42\u001b[0m \u001b[0mhyp\u001b[0m \u001b[0;34m=\u001b[0m \u001b[0mModel\u001b[0m\u001b[0;34m(\u001b[0m\u001b[0;34m)\u001b[0m\u001b[0;34m\u001b[0m\u001b[0;34m\u001b[0m\u001b[0m\n\u001b[0;32m---> 43\u001b[0;31m \u001b[0msteps\u001b[0m\u001b[0;34m,\u001b[0m \u001b[0merrors\u001b[0m \u001b[0;34m=\u001b[0m \u001b[0mhyp\u001b[0m\u001b[0;34m.\u001b[0m\u001b[0mfit\u001b[0m\u001b[0;34m(\u001b[0m\u001b[0mx\u001b[0m\u001b[0;34m,\u001b[0m \u001b[0my\u001b[0m\u001b[0;34m)\u001b[0m\u001b[0;34m\u001b[0m\u001b[0;34m\u001b[0m\u001b[0m\n\u001b[0m\u001b[1;32m     44\u001b[0m \u001b[0mJ\u001b[0m \u001b[0;34m=\u001b[0m \u001b[0mhyp\u001b[0m\u001b[0;34m.\u001b[0m\u001b[0merror\u001b[0m\u001b[0;34m(\u001b[0m\u001b[0mx\u001b[0m\u001b[0;34m,\u001b[0m \u001b[0my\u001b[0m\u001b[0;34m)\u001b[0m\u001b[0;34m\u001b[0m\u001b[0;34m\u001b[0m\u001b[0m\n\u001b[1;32m     45\u001b[0m \u001b[0mprint\u001b[0m\u001b[0;34m(\u001b[0m\u001b[0;34m\"error after gradient descent:\"\u001b[0m\u001b[0;34m,\u001b[0m \u001b[0mJ\u001b[0m\u001b[0;34m)\u001b[0m\u001b[0;34m\u001b[0m\u001b[0;34m\u001b[0m\u001b[0m\n",
            "\u001b[0;32m<ipython-input-7-bfaba5f98bdc>\u001b[0m in \u001b[0;36mfit\u001b[0;34m(self, X, Y, initial_alpha, decrease_factor, max_steps)\u001b[0m\n\u001b[1;32m     18\u001b[0m \u001b[0;34m\u001b[0m\u001b[0m\n\u001b[1;32m     19\u001b[0m         \u001b[0;32mwhile\u001b[0m \u001b[0mstep\u001b[0m \u001b[0;34m<\u001b[0m \u001b[0mmax_steps\u001b[0m\u001b[0;34m:\u001b[0m\u001b[0;34m\u001b[0m\u001b[0;34m\u001b[0m\u001b[0m\n\u001b[0;32m---> 20\u001b[0;31m             \u001b[0mdJ0\u001b[0m \u001b[0;34m=\u001b[0m \u001b[0msum\u001b[0m\u001b[0;34m(\u001b[0m\u001b[0mself\u001b[0m\u001b[0;34m.\u001b[0m\u001b[0mpredict\u001b[0m\u001b[0;34m(\u001b[0m\u001b[0mX\u001b[0m\u001b[0;34m)\u001b[0m \u001b[0;34m-\u001b[0m \u001b[0mY\u001b[0m\u001b[0;34m)\u001b[0m \u001b[0;34m/\u001b[0m \u001b[0mlen\u001b[0m\u001b[0;34m(\u001b[0m\u001b[0mX\u001b[0m\u001b[0;34m)\u001b[0m\u001b[0;34m\u001b[0m\u001b[0;34m\u001b[0m\u001b[0m\n\u001b[0m\u001b[1;32m     21\u001b[0m             \u001b[0mdJ1\u001b[0m \u001b[0;34m=\u001b[0m \u001b[0msum\u001b[0m\u001b[0;34m(\u001b[0m\u001b[0;34m(\u001b[0m\u001b[0mself\u001b[0m\u001b[0;34m.\u001b[0m\u001b[0mpredict\u001b[0m\u001b[0;34m(\u001b[0m\u001b[0mX\u001b[0m\u001b[0;34m)\u001b[0m \u001b[0;34m-\u001b[0m \u001b[0mY\u001b[0m\u001b[0;34m)\u001b[0m \u001b[0;34m*\u001b[0m \u001b[0mX\u001b[0m\u001b[0;34m)\u001b[0m \u001b[0;34m/\u001b[0m \u001b[0mlen\u001b[0m\u001b[0;34m(\u001b[0m\u001b[0mX\u001b[0m\u001b[0;34m)\u001b[0m\u001b[0;34m\u001b[0m\u001b[0;34m\u001b[0m\u001b[0m\n\u001b[1;32m     22\u001b[0m             \u001b[0mself\u001b[0m\u001b[0;34m.\u001b[0m\u001b[0mb0\u001b[0m \u001b[0;34m-=\u001b[0m \u001b[0malpha\u001b[0m \u001b[0;34m*\u001b[0m \u001b[0mdJ0\u001b[0m\u001b[0;34m\u001b[0m\u001b[0;34m\u001b[0m\u001b[0m\n",
            "\u001b[0;32m/usr/local/lib/python3.10/dist-packages/pandas/core/ops/common.py\u001b[0m in \u001b[0;36mnew_method\u001b[0;34m(self, other)\u001b[0m\n\u001b[1;32m     70\u001b[0m         \u001b[0mother\u001b[0m \u001b[0;34m=\u001b[0m \u001b[0mitem_from_zerodim\u001b[0m\u001b[0;34m(\u001b[0m\u001b[0mother\u001b[0m\u001b[0;34m)\u001b[0m\u001b[0;34m\u001b[0m\u001b[0;34m\u001b[0m\u001b[0m\n\u001b[1;32m     71\u001b[0m \u001b[0;34m\u001b[0m\u001b[0m\n\u001b[0;32m---> 72\u001b[0;31m         \u001b[0;32mreturn\u001b[0m \u001b[0mmethod\u001b[0m\u001b[0;34m(\u001b[0m\u001b[0mself\u001b[0m\u001b[0;34m,\u001b[0m \u001b[0mother\u001b[0m\u001b[0;34m)\u001b[0m\u001b[0;34m\u001b[0m\u001b[0;34m\u001b[0m\u001b[0m\n\u001b[0m\u001b[1;32m     73\u001b[0m \u001b[0;34m\u001b[0m\u001b[0m\n\u001b[1;32m     74\u001b[0m     \u001b[0;32mreturn\u001b[0m \u001b[0mnew_method\u001b[0m\u001b[0;34m\u001b[0m\u001b[0;34m\u001b[0m\u001b[0m\n",
            "\u001b[0;32m/usr/local/lib/python3.10/dist-packages/pandas/core/arraylike.py\u001b[0m in \u001b[0;36m__sub__\u001b[0;34m(self, other)\u001b[0m\n\u001b[1;32m    108\u001b[0m     \u001b[0;34m@\u001b[0m\u001b[0munpack_zerodim_and_defer\u001b[0m\u001b[0;34m(\u001b[0m\u001b[0;34m\"__sub__\"\u001b[0m\u001b[0;34m)\u001b[0m\u001b[0;34m\u001b[0m\u001b[0;34m\u001b[0m\u001b[0m\n\u001b[1;32m    109\u001b[0m     \u001b[0;32mdef\u001b[0m \u001b[0m__sub__\u001b[0m\u001b[0;34m(\u001b[0m\u001b[0mself\u001b[0m\u001b[0;34m,\u001b[0m \u001b[0mother\u001b[0m\u001b[0;34m)\u001b[0m\u001b[0;34m:\u001b[0m\u001b[0;34m\u001b[0m\u001b[0;34m\u001b[0m\u001b[0m\n\u001b[0;32m--> 110\u001b[0;31m         \u001b[0;32mreturn\u001b[0m \u001b[0mself\u001b[0m\u001b[0;34m.\u001b[0m\u001b[0m_arith_method\u001b[0m\u001b[0;34m(\u001b[0m\u001b[0mother\u001b[0m\u001b[0;34m,\u001b[0m \u001b[0moperator\u001b[0m\u001b[0;34m.\u001b[0m\u001b[0msub\u001b[0m\u001b[0;34m)\u001b[0m\u001b[0;34m\u001b[0m\u001b[0;34m\u001b[0m\u001b[0m\n\u001b[0m\u001b[1;32m    111\u001b[0m \u001b[0;34m\u001b[0m\u001b[0m\n\u001b[1;32m    112\u001b[0m     \u001b[0;34m@\u001b[0m\u001b[0munpack_zerodim_and_defer\u001b[0m\u001b[0;34m(\u001b[0m\u001b[0;34m\"__rsub__\"\u001b[0m\u001b[0;34m)\u001b[0m\u001b[0;34m\u001b[0m\u001b[0;34m\u001b[0m\u001b[0m\n",
            "\u001b[0;32m/usr/local/lib/python3.10/dist-packages/pandas/core/series.py\u001b[0m in \u001b[0;36m_arith_method\u001b[0;34m(self, other, op)\u001b[0m\n\u001b[1;32m   6257\u001b[0m     \u001b[0;32mdef\u001b[0m \u001b[0m_arith_method\u001b[0m\u001b[0;34m(\u001b[0m\u001b[0mself\u001b[0m\u001b[0;34m,\u001b[0m \u001b[0mother\u001b[0m\u001b[0;34m,\u001b[0m \u001b[0mop\u001b[0m\u001b[0;34m)\u001b[0m\u001b[0;34m:\u001b[0m\u001b[0;34m\u001b[0m\u001b[0;34m\u001b[0m\u001b[0m\n\u001b[1;32m   6258\u001b[0m         \u001b[0mself\u001b[0m\u001b[0;34m,\u001b[0m \u001b[0mother\u001b[0m \u001b[0;34m=\u001b[0m \u001b[0mops\u001b[0m\u001b[0;34m.\u001b[0m\u001b[0malign_method_SERIES\u001b[0m\u001b[0;34m(\u001b[0m\u001b[0mself\u001b[0m\u001b[0;34m,\u001b[0m \u001b[0mother\u001b[0m\u001b[0;34m)\u001b[0m\u001b[0;34m\u001b[0m\u001b[0;34m\u001b[0m\u001b[0m\n\u001b[0;32m-> 6259\u001b[0;31m         \u001b[0;32mreturn\u001b[0m \u001b[0mbase\u001b[0m\u001b[0;34m.\u001b[0m\u001b[0mIndexOpsMixin\u001b[0m\u001b[0;34m.\u001b[0m\u001b[0m_arith_method\u001b[0m\u001b[0;34m(\u001b[0m\u001b[0mself\u001b[0m\u001b[0;34m,\u001b[0m \u001b[0mother\u001b[0m\u001b[0;34m,\u001b[0m \u001b[0mop\u001b[0m\u001b[0;34m)\u001b[0m\u001b[0;34m\u001b[0m\u001b[0;34m\u001b[0m\u001b[0m\n\u001b[0m\u001b[1;32m   6260\u001b[0m \u001b[0;34m\u001b[0m\u001b[0m\n\u001b[1;32m   6261\u001b[0m \u001b[0;34m\u001b[0m\u001b[0m\n",
            "\u001b[0;32m/usr/local/lib/python3.10/dist-packages/pandas/core/base.py\u001b[0m in \u001b[0;36m_arith_method\u001b[0;34m(self, other, op)\u001b[0m\n\u001b[1;32m   1322\u001b[0m         \u001b[0mrvalues\u001b[0m \u001b[0;34m=\u001b[0m \u001b[0mensure_wrapped_if_datetimelike\u001b[0m\u001b[0;34m(\u001b[0m\u001b[0mrvalues\u001b[0m\u001b[0;34m)\u001b[0m\u001b[0;34m\u001b[0m\u001b[0;34m\u001b[0m\u001b[0m\n\u001b[1;32m   1323\u001b[0m \u001b[0;34m\u001b[0m\u001b[0m\n\u001b[0;32m-> 1324\u001b[0;31m         \u001b[0;32mwith\u001b[0m \u001b[0mnp\u001b[0m\u001b[0;34m.\u001b[0m\u001b[0merrstate\u001b[0m\u001b[0;34m(\u001b[0m\u001b[0mall\u001b[0m\u001b[0;34m=\u001b[0m\u001b[0;34m\"ignore\"\u001b[0m\u001b[0;34m)\u001b[0m\u001b[0;34m:\u001b[0m\u001b[0;34m\u001b[0m\u001b[0;34m\u001b[0m\u001b[0m\n\u001b[0m\u001b[1;32m   1325\u001b[0m             \u001b[0mresult\u001b[0m \u001b[0;34m=\u001b[0m \u001b[0mops\u001b[0m\u001b[0;34m.\u001b[0m\u001b[0marithmetic_op\u001b[0m\u001b[0;34m(\u001b[0m\u001b[0mlvalues\u001b[0m\u001b[0;34m,\u001b[0m \u001b[0mrvalues\u001b[0m\u001b[0;34m,\u001b[0m \u001b[0mop\u001b[0m\u001b[0;34m)\u001b[0m\u001b[0;34m\u001b[0m\u001b[0;34m\u001b[0m\u001b[0m\n\u001b[1;32m   1326\u001b[0m \u001b[0;34m\u001b[0m\u001b[0m\n",
            "\u001b[0;32m/usr/local/lib/python3.10/dist-packages/numpy/core/_ufunc_config.py\u001b[0m in \u001b[0;36m__enter__\u001b[0;34m(self)\u001b[0m\n\u001b[1;32m    428\u001b[0m \u001b[0;34m\u001b[0m\u001b[0m\n\u001b[1;32m    429\u001b[0m     \u001b[0;32mdef\u001b[0m \u001b[0m__enter__\u001b[0m\u001b[0;34m(\u001b[0m\u001b[0mself\u001b[0m\u001b[0;34m)\u001b[0m\u001b[0;34m:\u001b[0m\u001b[0;34m\u001b[0m\u001b[0;34m\u001b[0m\u001b[0m\n\u001b[0;32m--> 430\u001b[0;31m         \u001b[0mself\u001b[0m\u001b[0;34m.\u001b[0m\u001b[0moldstate\u001b[0m \u001b[0;34m=\u001b[0m \u001b[0mseterr\u001b[0m\u001b[0;34m(\u001b[0m\u001b[0;34m**\u001b[0m\u001b[0mself\u001b[0m\u001b[0;34m.\u001b[0m\u001b[0mkwargs\u001b[0m\u001b[0;34m)\u001b[0m\u001b[0;34m\u001b[0m\u001b[0;34m\u001b[0m\u001b[0m\n\u001b[0m\u001b[1;32m    431\u001b[0m         \u001b[0;32mif\u001b[0m \u001b[0mself\u001b[0m\u001b[0;34m.\u001b[0m\u001b[0mcall\u001b[0m \u001b[0;32mis\u001b[0m \u001b[0;32mnot\u001b[0m \u001b[0m_Unspecified\u001b[0m\u001b[0;34m:\u001b[0m\u001b[0;34m\u001b[0m\u001b[0;34m\u001b[0m\u001b[0m\n\u001b[1;32m    432\u001b[0m             \u001b[0mself\u001b[0m\u001b[0;34m.\u001b[0m\u001b[0moldcall\u001b[0m \u001b[0;34m=\u001b[0m \u001b[0mseterrcall\u001b[0m\u001b[0;34m(\u001b[0m\u001b[0mself\u001b[0m\u001b[0;34m.\u001b[0m\u001b[0mcall\u001b[0m\u001b[0;34m)\u001b[0m\u001b[0;34m\u001b[0m\u001b[0;34m\u001b[0m\u001b[0m\n",
            "\u001b[0;32m/usr/local/lib/python3.10/dist-packages/numpy/core/_ufunc_config.py\u001b[0m in \u001b[0;36mseterr\u001b[0;34m(all, divide, over, under, invalid)\u001b[0m\n\u001b[1;32m    125\u001b[0m \u001b[0;34m\u001b[0m\u001b[0m\n\u001b[1;32m    126\u001b[0m     \u001b[0mpyvals\u001b[0m\u001b[0;34m[\u001b[0m\u001b[0;36m1\u001b[0m\u001b[0;34m]\u001b[0m \u001b[0;34m=\u001b[0m \u001b[0mmaskvalue\u001b[0m\u001b[0;34m\u001b[0m\u001b[0;34m\u001b[0m\u001b[0m\n\u001b[0;32m--> 127\u001b[0;31m     \u001b[0mumath\u001b[0m\u001b[0;34m.\u001b[0m\u001b[0mseterrobj\u001b[0m\u001b[0;34m(\u001b[0m\u001b[0mpyvals\u001b[0m\u001b[0;34m)\u001b[0m\u001b[0;34m\u001b[0m\u001b[0;34m\u001b[0m\u001b[0m\n\u001b[0m\u001b[1;32m    128\u001b[0m     \u001b[0;32mreturn\u001b[0m \u001b[0mold\u001b[0m\u001b[0;34m\u001b[0m\u001b[0;34m\u001b[0m\u001b[0m\n\u001b[1;32m    129\u001b[0m \u001b[0;34m\u001b[0m\u001b[0m\n",
            "\u001b[0;31mKeyboardInterrupt\u001b[0m: "
          ]
        }
      ]
    },
    {
      "cell_type": "markdown",
      "source": [
        "#№7"
      ],
      "metadata": {
        "id": "Sz7bpFYDAC-6"
      }
    },
    {
      "cell_type": "markdown",
      "source": [
        "Добавьте к классу модели метод рисования графиков. Сделайте так, чтобы он был независим от масштаба переданных данных."
      ],
      "metadata": {
        "id": "LehiLWnK--ia"
      }
    },
    {
      "cell_type": "code",
      "source": [
        "import numpy as np\n",
        "import pandas as pd\n",
        "import matplotlib.pyplot as plt\n",
        "\n",
        "class Model(object):\n",
        "    \"\"\"Модель парной линейной регрессии\"\"\"\n",
        "\n",
        "    def __init__(self, b0=0, b1=0):\n",
        "        self.b0 = b0\n",
        "        self.b1 = b1\n",
        "        self.learning_rate = 1.0  # Initial learning rate\n",
        "\n",
        "    def predict(self, X):\n",
        "        return self.b0 + self.b1 * X\n",
        "\n",
        "    def error(self, X, Y):\n",
        "        return np.sum(((self.predict(X) - Y) ** 2) / (2 * len(X)))\n",
        "\n",
        "    def update_learning_rate(self, X, Y):\n",
        "        # Perform one step of gradient descent and evaluate the new error\n",
        "        original_b0, original_b1 = self.b0, self.b1\n",
        "        dJ0 = np.sum(self.predict(X) - Y) / len(X)\n",
        "        dJ1 = np.sum((self.predict(X) - Y) * X) / len(X)\n",
        "        self.b0 -= self.learning_rate * dJ0\n",
        "        self.b1 -= self.learning_rate * dJ1\n",
        "        new_err = self.error(X, Y)\n",
        "\n",
        "        if new_err > self.error(X, Y):\n",
        "            # If the error increased, reduce the learning rate by half and revert the changes\n",
        "            self.learning_rate /= 2.0\n",
        "            self.b0, self.b1 = original_b0, original_b1\n",
        "\n",
        "    def fit(self, X, Y, alpha=1.0, accuracy=0.000001, max_steps=5000):\n",
        "        self.learning_rate = alpha\n",
        "        steps, errors = [], []\n",
        "        step = 0\n",
        "        for _ in range(max_steps):\n",
        "            self.update_learning_rate(X, Y)  # Update the learning rate\n",
        "            dJ0 = np.sum(self.predict(X) - Y) / len(X)\n",
        "            dJ1 = np.sum((self.predict(X) - Y) * X) / len(X)\n",
        "            self.b0 -= self.learning_rate * dJ0\n",
        "            self.b1 -= self.learning_rate * dJ1\n",
        "            new_err = self.error(X, Y)\n",
        "            step += 1\n",
        "            if len(errors) > 1:\n",
        "                delta = new_err - errors[-1]\n",
        "                if (delta < 0 and abs(delta) < accuracy) or delta > 0:\n",
        "                    break\n",
        "            steps.append(step)\n",
        "            errors.append(new_err)\n",
        "        return steps, errors\n",
        "\n",
        "    def plot(self, X, Y):\n",
        "        # Rescale data for plotting\n",
        "        X_min, X_max = X.min(), X.max()\n",
        "        Y_min, Y_max = Y.min(), Y.max()\n",
        "        X_scaled = (X - X_min) / (X_max - X_min)\n",
        "        Y_scaled = (Y - Y_min) / (Y_max - Y_min)\n",
        "\n",
        "        X0_scaled = np.linspace(0, 1, 100)\n",
        "        Y0_scaled = self.predict(X0_scaled)\n",
        "        X0 = X0_scaled * (X_max - X_min) + X_min\n",
        "        Y0 = Y0_scaled * (Y_max - Y_min) + Y_min\n",
        "\n",
        "        plt.figure()\n",
        "        plt.scatter(X, Y)\n",
        "        plt.plot(X0, Y0, 'r')\n",
        "        plt.show()\n",
        "\n",
        "a = 1\n",
        "b = 0.1\n",
        "df = pd.DataFrame({'x': np.linspace(-2, 4, 20), 'y': a * np.linspace(-2, 4, 20) + b + np.random.normal(0, 0.1, 20)})\n",
        "hyp = Model()\n",
        "steps1, errors1 = hyp.fit(df['x'], df['y'], alpha=1.0, accuracy=0.000000001)\n",
        "J1 = hyp.error(df['x'], df['y'])\n",
        "print(\"error after gradient descent:\", J1)\n",
        "print(\"Обучение остановлено на итерации:\", len(steps1))\n",
        "print(\"*\" * 100)\n",
        "\n",
        "hyp.plot(df['x'], df['y'])\n"
      ],
      "metadata": {
        "colab": {
          "base_uri": "https://localhost:8080/",
          "height": 482
        },
        "id": "4Og6mbNFAEeO",
        "outputId": "b652b2c2-b502-4ef7-9066-843cc25e3bd2"
      },
      "execution_count": null,
      "outputs": [
        {
          "output_type": "stream",
          "name": "stdout",
          "text": [
            "error after gradient descent: 10382600.518054433\n",
            "Обучение остановлено на итерации: 2\n",
            "****************************************************************************************************\n"
          ]
        },
        {
          "output_type": "display_data",
          "data": {
            "text/plain": [
              "<Figure size 640x480 with 1 Axes>"
            ],
            "image/png": "[encoded data removed]"
          },
          "metadata": {}
        }
      ]
    }
  ]
}